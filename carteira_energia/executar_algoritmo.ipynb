{
 "cells": [
  {
   "cell_type": "code",
   "execution_count": null,
   "id": "d85a71d7",
   "metadata": {},
   "outputs": [],
   "source": [
    "from carteira_energia.carteira_compra_venda_energia import CarteiraCompraVendaEnergia\n",
    "\n",
    "carteira = CarteiraCompraVendaEnergia(2023)\n",
    "\n",
    "carteira.encontrar_recomendacao()"
   ]
  }
 ],
 "metadata": {
  "language_info": {
   "name": "python"
  }
 },
 "nbformat": 4,
 "nbformat_minor": 5
}
